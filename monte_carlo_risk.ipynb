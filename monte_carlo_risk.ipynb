{
 "cells": [
  {
   "cell_type": "markdown",
   "id": "932b6c71-c180-4687-9030-b9308917580f",
   "metadata": {},
   "source": [
    "# Monte Carlo Simulation for Portfolio Risk Assessment\n",
    "## Part 1: The Setup\n",
    "\n",
    "### **What's in our portfolio?**\n",
    "\\\n",
    "Assume we've invested in three assets: US stocks (A), bonds (B) and gold (C) with 50% of our money going into stocks, 30% into bonds, 20% into gold.\n",
    "That’s our **weights vector**:\n",
    "$w = \\begin{bmatrix}0.5 \\\\ 0.3 \\\\ 0.2\\end{bmatrix}$\n",
    "\n",
    "### **How do these assets behave individually?**\n",
    "\\\n",
    "We use two variables to describe the behaviour of each asset - *mean return* ie how much it goes up on average day and *volatility* ie how much it wiggles up/down around the mean.\n",
    "So for our three assets (numbers are generated randomly):\n",
    "\n",
    "- Means: $\\mu = [0.0005, 0.0002, 0.0003]$\n",
    "- Volatilities: $\\sigma = [0.010, 0.015, 0.012]$\n",
    "\n",
    "### **Correlations**\n",
    "\\\n",
    "Assets are not independent. Sometimes stocks and bonds move in opposite directions, sometimes together.  \n",
    "We describe that with **correlations** (between −1 and +1).\n",
    "In our case:  \n",
    "- Correlation between stocks and bonds: $\\rho_{AB}= 0.20$ (weak positive)  \n",
    "- Correlation between stocks and gold: $\\rho_{AC} = 0.10$ (very weak positive)  \n",
    "- Correlation between bonds and gold: $\\rho_{BC} = 0.05$ (almost independent)\n",
    "\n",
    "### **The Covariance Matrix**\n",
    "\\\n",
    "We combine volatilities and correlations into a *covariance matrix* $\\Sigma$ which tells us how each pair of assets moves together.\n",
    "\n",
    "- On the diagonal $(i=j)$, it’s just the variance: $\\sigma_i^2\\$.  \n",
    "- Off-diagonal terms use correlation and the product of volatilities.\n",
    "\\\n",
    "So the covariance matrix is:\n",
    "\n",
    "$$\n",
    "\\Sigma=\n",
    "\\begin{bmatrix}\n",
    "\\sigma_A^2 & \\rho_{AB}\\,\\sigma_A\\sigma_B & \\rho_{AC}\\,\\sigma_A\\sigma_C \\\\\n",
    "\\rho_{AB}\\,\\sigma_A\\sigma_B & \\sigma_B^2 & \\rho_{BC}\\,\\sigma_B\\sigma_C \\\\\n",
    "\\rho_{AC}\\,\\sigma_A\\sigma_C & \\rho_{BC}\\,\\sigma_B\\sigma_C & \\sigma_C^2\n",
    "\\end{bmatrix}\n",
    "$$"
   ]
  },
  {
   "cell_type": "code",
   "execution_count": 38,
   "id": "9729bdd0-b03f-4dd7-a7df-ac7dd38f5896",
   "metadata": {},
   "outputs": [],
   "source": [
    "import numpy as np\n",
    "import matplotlib.pyplot as plt"
   ]
  },
  {
   "cell_type": "code",
   "execution_count": 40,
   "id": "57ad414c-6267-416b-926b-9cd41c32d03b",
   "metadata": {},
   "outputs": [],
   "source": [
    "w = np.array([0.5, 0.3, 0.2])\n",
    "mu = np.array([0.0005, 0.0002, 0.0003])\n",
    "sigma = np.array([0.010, 0.015, 0.012])  \n",
    "\n",
    "corr = np.array([\n",
    "    [1.0, 0.20, 0.10],\n",
    "    [0.20, 1.0, 0.05],\n",
    "    [0.10, 0.05, 1.0]\n",
    "])\n",
    "\n",
    "Sigma = np.outer(sigma, sigma) * corr\n"
   ]
  },
  {
   "cell_type": "markdown",
   "id": "9bd19664-a954-4f19-a0a6-cc9f25034b21",
   "metadata": {},
   "source": [
    "### **Portfolio Mean Return**\n",
    "The expected return of the whole portfolio is just a **weighted average** of the individual means.\n",
    "\n",
    "Formula:\n",
    "$$\n",
    "\\mu_p = w^\\top \\mu\n",
    "$$\n",
    "\n",
    "### **Portfolio Variance**\n",
    "\\\n",
    "Portfolio variance is a statistical value that assesses the degree of dispersion of the returns of a portfolio.\n",
    "\n",
    "Formula:\n",
    "$$\n",
    "\\sigma_p^2 = w^\\top \\Sigma w\n",
    "$$\n",
    "\n",
    "- If assets are uncorrelated, risks cancel each other out (less risky).  \n",
    "- If assets are highly correlated, risks add up (more risky).  \n",
    "\n",
    "So the covariance matrix $\\Sigma$ is the glue that tells us how risks interact.\n",
    "\\\n",
    "To get back to normal volatility, just take square root:\n",
    "\n",
    "$$ \n",
    "\\sigma_p = \\sqrt{\\sigma_p^2}\n",
    "$$\n",
    "\n",
    "That’s the portfolio’s **daily volatility** (standard deviation of returns).\n",
    "\n"
   ]
  },
  {
   "cell_type": "code",
   "execution_count": 60,
   "id": "8fd8f0e9-9436-4cc3-b359-8602c1c84915",
   "metadata": {},
   "outputs": [
    {
     "name": "stdout",
     "output_type": "stream",
     "text": [
      "Portfolio mean return (daily): 0.00037\n",
      "Portfolio volatility (daily): 0.007968061244744546\n"
     ]
    }
   ],
   "source": [
    "from scipy.stats import norm\n",
    "import numpy as np\n",
    "import pandas as pd\n",
    "\n",
    "mu_p = w @ mu\n",
    "sigma_p = np.sqrt(w @ Sigma @ w)\n",
    "\n",
    "\n",
    "print(\"Portfolio mean return (daily):\", mu_p)\n",
    "print(\"Portfolio volatility (daily):\", sigma_p)\n",
    "\n",
    "def analytic_VaR_ES(confidence):\n",
    "    alpha = 1 - confidence\n",
    "    z = norm.ppf(alpha)\n",
    "    VaR = -(mu_p + z * sigma_p)\n",
    "    ES = -(mu_p - sigma_p * norm.pdf(z) / alpha)\n",
    "    return VaR, ES"
   ]
  },
  {
   "cell_type": "markdown",
   "id": "ae72cb59-49dd-4600-9abb-1cfeba5d07e5",
   "metadata": {},
   "source": [
    "## Part 2: The Simulation\n",
    "We assume returns follow a **multivariate normal distribution**:\n",
    "\n",
    "$$\n",
    "R \\sim \\mathcal{N}(\\mu, \\Sigma)\n",
    "$$\n",
    "\n",
    "where $R$ is a vector of asset returns, $\\mu$ is the vector of means, and $\\Sigma$ is the covariance matrix.\n",
    "\\\n",
    "Generate $N$ random draws (e.g., $N = 100,000)$.  Each draw is a possible “next day” for all 3 assets.\n",
    "Compute portfolio return for each draw:\n",
    "\n",
    "$$\n",
    "R_p = w^\\top R\n",
    "$$\n",
    "\n",
    "Now you have 100,000 simulated portfolio returns → we can study them.\n"
   ]
  },
  {
   "cell_type": "code",
   "execution_count": 63,
   "id": "38cf099e-aa62-4cc1-b006-384abf24be55",
   "metadata": {},
   "outputs": [
    {
     "name": "stdout",
     "output_type": "stream",
     "text": [
      "First 5 simulated portfolio returns: [-0.00746146 -0.00742683 -0.00384565 -0.0061889  -0.0051388 ]\n"
     ]
    }
   ],
   "source": [
    "N = 100_000\n",
    "# Simulate correlated asset returns\n",
    "# Each row = one simulated \"next day\" for all 3 assets\n",
    "R_sim = np.random.multivariate_normal(mean=mu, cov=Sigma, size=N)\n",
    "\n",
    "# Compute portfolio returns for each simulation\n",
    "R_p_sim = R_sim @ w  \n",
    "\n",
    "print(\"First 5 simulated portfolio returns:\", R_p_sim[:5])"
   ]
  },
  {
   "cell_type": "markdown",
   "id": "f8b7ee99-8ac3-48ca-abe1-23d8f4bb84ad",
   "metadata": {},
   "source": [
    "---\n",
    "From these simulated portfolio returns we can now compute:\n",
    "\n",
    "- **Histogram**: visualise the distribution.  \n",
    "- **Empirical VaR**: the 5th percentile (for 95% confidence).  \n",
    "- **Empirical ES**: average of the worst 5% of outcomes.  \n",
    "- Compare with our **analytic VaR** to see how close the normal assumption is."
   ]
  },
  {
   "cell_type": "markdown",
   "id": "b4d82e8d-bade-458d-9e04-555567effe3c",
   "metadata": {},
   "source": [
    "---\n",
    "### Empirical VaR and ES"
   ]
  },
  {
   "cell_type": "code",
   "execution_count": 67,
   "id": "46d3305b-1de9-4769-991d-86e2cd7189eb",
   "metadata": {},
   "outputs": [],
   "source": [
    "def empirical_VaR_ES(confidence):\n",
    "    cutoff = np.percentile(R_p_sim, (1-confidence)*100)\n",
    "    VaR = -cutoff\n",
    "    ES = -R_p_sim[R_p_sim <= cutoff].mean()\n",
    "    return VaR, ES"
   ]
  },
  {
   "cell_type": "markdown",
   "id": "072e073b-e8f7-4fbd-b061-d847ccd78053",
   "metadata": {},
   "source": [
    "---\n",
    "## Part 3: Analytical vs Empirical "
   ]
  },
  {
   "cell_type": "code",
   "execution_count": 70,
   "id": "dee3f188-5f36-4964-b463-6e9f06cbb930",
   "metadata": {},
   "outputs": [
    {
     "name": "stdout",
     "output_type": "stream",
     "text": [
      "\n",
      "--- 95% Confidence Level ---\n",
      "Analytical VaR: 0.01274 | Empirical VaR: 0.01273 | % Diff: -0.08%\n",
      "Analytical ES : 0.01607 | Empirical ES : 0.01599 | % Diff: -0.46%\n",
      "\n",
      "--- 99% Confidence Level ---\n",
      "Analytical VaR: 0.01817 | Empirical VaR: 0.01806 | % Diff: -0.60%\n",
      "Analytical ES : 0.02087 | Empirical ES : 0.02068 | % Diff: -0.91%\n"
     ]
    }
   ],
   "source": [
    "for confidence in [0.95, 0.99]:\n",
    "    VaR_a, ES_a = analytic_VaR_ES(confidence)\n",
    "    VaR_e, ES_e = empirical_VaR_ES(confidence)\n",
    "\n",
    "    diff_VaR = 100 * (VaR_e - VaR_a) / VaR_a\n",
    "    diff_ES = 100 * (ES_e - ES_a) / ES_a\n",
    "\n",
    "    print(f\"\\n--- {int(confidence*100)}% Confidence Level ---\")\n",
    "    print(f\"Analytical VaR: {VaR_a:.5f} | Empirical VaR: {VaR_e:.5f} | % Diff: {diff_VaR:.2f}%\")\n",
    "    print(f\"Analytical ES : {ES_a:.5f} | Empirical ES : {ES_e:.5f} | % Diff: {diff_ES:.2f}%\")\n"
   ]
  },
  {
   "cell_type": "markdown",
   "id": "132147d7-c09d-45bd-91ae-32fc6ec202c9",
   "metadata": {},
   "source": [
    "---\n",
    "### Histogram with VaR and ES"
   ]
  },
  {
   "cell_type": "code",
   "execution_count": 73,
   "id": "9b3fb379-d558-4ce8-8156-1f0d11c0705a",
   "metadata": {},
   "outputs": [
    {
     "data": {
      "image/png": "[encoded data removed]",
      "text/plain": [
       "<Figure size 1000x600 with 1 Axes>"
      ]
     },
     "metadata": {},
     "output_type": "display_data"
    }
   ],
   "source": [
    "confidence = 0.95  # pick one to visualize\n",
    "VaR_a, ES_a = analytic_VaR_ES(confidence)\n",
    "VaR_e, ES_e = empirical_VaR_ES(confidence)\n",
    "\n",
    "plt.figure(figsize=(10,6))\n",
    "plt.hist(R_p_sim, bins=100, edgecolor='k', alpha=0.7, label=\"Simulated Returns\")\n",
    "\n",
    "\n",
    "plt.axvline(-VaR_a, color='r', linestyle='--', linewidth=2, label=\"Analytical VaR\")\n",
    "plt.axvline(-VaR_e, color='r', linestyle='-', linewidth=2, label=\"Empirical VaR\")\n",
    "plt.axvline(-ES_a, color='g', linestyle='--', linewidth=2, label=\"Analytical ES\")\n",
    "plt.axvline(-ES_e, color='g', linestyle='-', linewidth=2, label=\"Empirical ES\")\n",
    "\n",
    "plt.title(\"Monte Carlo Simulation of Portfolio Risk\")\n",
    "plt.xlabel(\"Daily Return\")\n",
    "plt.ylabel(\"Frequency\")\n",
    "plt.legend()\n",
    "plt.show()"
   ]
  },
  {
   "cell_type": "code",
   "execution_count": 75,
   "id": "470c8597-4630-4d7d-966f-24e4295bed07",
   "metadata": {},
   "outputs": [
    {
     "name": "stdout",
     "output_type": "stream",
     "text": [
      "\n",
      "Summary statistics of simulated portfolio returns:\n",
      "Mean: 0.00037\n",
      "Std: 0.00794\n",
      "Min: -0.03475\n",
      "Max: 0.03313\n",
      "Skew: -0.00, Kurtosis: -0.01\n"
     ]
    }
   ],
   "source": [
    "print(\"\\nSummary statistics of simulated portfolio returns:\")\n",
    "print(f\"Mean: {R_p_sim.mean():.5f}\")\n",
    "print(f\"Std: {R_p_sim.std():.5f}\")\n",
    "print(f\"Min: {R_p_sim.min():.5f}\")\n",
    "print(f\"Max: {R_p_sim.max():.5f}\")\n",
    "print(f\"Skew: {pd.Series(R_p_sim).skew():.2f}, Kurtosis: {pd.Series(R_p_sim).kurt():.2f}\")"
   ]
  }
 ],
 "metadata": {
  "kernelspec": {
   "display_name": "Python [conda env:base] *",
   "language": "python",
   "name": "conda-base-py"
  },
  "language_info": {
   "codemirror_mode": {
    "name": "ipython",
    "version": 3
   },
   "file_extension": ".py",
   "mimetype": "text/x-python",
   "name": "python",
   "nbconvert_exporter": "python",
   "pygments_lexer": "ipython3",
   "version": "3.12.7"
  }
 },
 "nbformat": 4,
 "nbformat_minor": 5
}
